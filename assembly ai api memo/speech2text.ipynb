{
 "cells": [
  {
   "cell_type": "code",
   "execution_count": 1,
   "metadata": {},
   "outputs": [
    {
     "ename": "ModuleNotFoundError",
     "evalue": "No module named 'aai'",
     "output_type": "error",
     "traceback": [
      "\u001b[1;31m---------------------------------------------------------------------------\u001b[0m",
      "\u001b[1;31mModuleNotFoundError\u001b[0m                       Traceback (most recent call last)",
      "\u001b[1;32mc:\\Users\\madhav\\Desktop\\assembly ai api memo\\speech2text.ipynb Cell 1\u001b[0m line \u001b[0;36m1\n\u001b[1;32m----> <a href='vscode-notebook-cell:/c%3A/Users/madhav/Desktop/assembly%20ai%20api%20memo/speech2text.ipynb#W0sZmlsZQ%3D%3D?line=0'>1</a>\u001b[0m \u001b[39mimport\u001b[39;00m \u001b[39maai\u001b[39;00m\n\u001b[0;32m      <a href='vscode-notebook-cell:/c%3A/Users/madhav/Desktop/assembly%20ai%20api%20memo/speech2text.ipynb#W0sZmlsZQ%3D%3D?line=1'>2</a>\u001b[0m \u001b[39mimport\u001b[39;00m \u001b[39mconstants\u001b[39;00m\n\u001b[0;32m      <a href='vscode-notebook-cell:/c%3A/Users/madhav/Desktop/assembly%20ai%20api%20memo/speech2text.ipynb#W0sZmlsZQ%3D%3D?line=3'>4</a>\u001b[0m aai\u001b[39m.\u001b[39msettings\u001b[39m.\u001b[39mapi_key  \u001b[39m=\u001b[39m  \u001b[39m'\u001b[39m\u001b[39mf4b0aafc76a44933a6f3569672155b81\u001b[39m\u001b[39m'\u001b[39m\u001b[39m.\u001b[39mAPI_KEY\n",
      "\u001b[1;31mModuleNotFoundError\u001b[0m: No module named 'aai'"
     ]
    }
   ],
   "source": [
    "import aai\n",
    "import constants\n",
    "\n",
    "aai.settings.api_key  =  'f4b0aafc76a44933a6f3569672155b81'.API_KEY"
   ]
  },
  {
   "cell_type": "markdown",
   "metadata": {},
   "source": [
    "Basic Transcription "
   ]
  },
  {
   "cell_type": "code",
   "execution_count": null,
   "metadata": {},
   "outputs": [],
   "source": [
    "transcriber = aai.Transcriber()\n",
    "transcript = transcriber.transcribe(assembly ai api memo/SnapInsta.io - KGF Power inspiring Mass Dialog Malayalam _ KGF Mass scene _ Yash,Prashanth Neel (128 kbps).mp3)\n",
    "print(transcript.text)"
   ]
  },
  {
   "cell_type": "markdown",
   "metadata": {},
   "source": [
    "LemuR"
   ]
  },
  {
   "cell_type": "code",
   "execution_count": null,
   "metadata": {},
   "outputs": [],
   "source": []
  },
  {
   "cell_type": "markdown",
   "metadata": {},
   "source": [
    "Real Time Transcription "
   ]
  },
  {
   "cell_type": "code",
   "execution_count": null,
   "metadata": {},
   "outputs": [],
   "source": []
  }
 ],
 "metadata": {
  "kernelspec": {
   "display_name": "Python 3",
   "language": "python",
   "name": "python3"
  },
  "language_info": {
   "codemirror_mode": {
    "name": "ipython",
    "version": 3
   },
   "file_extension": ".py",
   "mimetype": "text/x-python",
   "name": "python",
   "nbconvert_exporter": "python",
   "pygments_lexer": "ipython3",
   "version": "3.11.4"
  },
  "orig_nbformat": 4
 },
 "nbformat": 4,
 "nbformat_minor": 2
}
